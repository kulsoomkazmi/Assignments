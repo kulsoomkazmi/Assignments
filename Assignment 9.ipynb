{
 "cells": [
  {
   "cell_type": "markdown",
   "metadata": {},
   "source": [
    "# Calculator"
   ]
  },
  {
   "cell_type": "code",
   "execution_count": 2,
   "metadata": {},
   "outputs": [
    {
     "name": "stdout",
     "output_type": "stream",
     "text": [
      "Enter any number: 4\n",
      "Enter any number: 5\n",
      "Enter any operator which you want: *\n",
      "20\n"
     ]
    }
   ],
   "source": [
    "num_1 = int(input(\"Enter any number: \"))\n",
    "num_2 = int(input(\"Enter any number: \"))\n",
    "operation = input('Enter any operator which you want: ')\n",
    "\n",
    "if operation == '+':\n",
    "    print(num_1 + num_2)\n",
    "elif operation == '-':\n",
    "    print(num_1 - num_2)\n",
    "elif operation == '*':\n",
    "    print(num_1*num_2)\n",
    "elif operation == '/':\n",
    "    print(num_1/num_2)\n",
    "elif operation == '%':\n",
    "    print(num_1%num_2)\n",
    "else:\n",
    "    print('Wrong number or operation')"
   ]
  },
  {
   "cell_type": "markdown",
   "metadata": {},
   "source": [
    "# Marksheet"
   ]
  },
  {
   "cell_type": "code",
   "execution_count": 10,
   "metadata": {},
   "outputs": [
    {
     "name": "stdout",
     "output_type": "stream",
     "text": [
      "Enter marks of 1st subject\"34\n",
      "Enter marks of 2nd subject\"67\n",
      "Enter marks of 3rd subject\"87\n",
      "Enter marks of 4th subject\"98\n",
      "Enter marks of 5th subject\"78\n",
      "Percentage of student is: 72.8\n",
      "B grade\n"
     ]
    }
   ],
   "source": [
    "total_marks = 500\n",
    "sub1_marks = int(input('Enter marks of 1st subject\"'))\n",
    "sub2_marks = int(input('Enter marks of 2nd subject\"'))\n",
    "sub3_marks = int(input('Enter marks of 3rd subject\"'))\n",
    "sub4_marks = int(input('Enter marks of 4th subject\"'))\n",
    "sub5_marks = int(input('Enter marks of 5th subject\"'))\n",
    "\n",
    "marks_obtained = sub1_marks + sub2_marks +sub3_marks + sub4_marks + sub5_marks\n",
    "percentage = marks_obtained /total_marks * 100\n",
    "print(f'Percentage of student is: {percentage}')\n",
    "\n",
    "if percentage >= 90 and percentage <= 100:\n",
    "    print('A + grade')\n",
    "elif percentage >= 80 and  percentage <= 89:\n",
    "    print('A grade')\n",
    "elif percentage >= 70 and percentage <= 79:\n",
    "    print('B grade')\n",
    "elif percentage >= 60 and percentage <= 69:\n",
    "    print('C grade')\n",
    "elif percentage >= 50 and percentage <= 59:\n",
    "    print('D grade')\n",
    "else:\n",
    "    print('E grade')"
   ]
  },
  {
   "cell_type": "code",
   "execution_count": null,
   "metadata": {},
   "outputs": [],
   "source": []
  }
 ],
 "metadata": {
  "kernelspec": {
   "display_name": "Python 3",
   "language": "python",
   "name": "python3"
  },
  "language_info": {
   "codemirror_mode": {
    "name": "ipython",
    "version": 3
   },
   "file_extension": ".py",
   "mimetype": "text/x-python",
   "name": "python",
   "nbconvert_exporter": "python",
   "pygments_lexer": "ipython3",
   "version": "3.7.3"
  }
 },
 "nbformat": 4,
 "nbformat_minor": 2
}
