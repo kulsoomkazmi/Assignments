{
 "cells": [
  {
   "cell_type": "markdown",
   "metadata": {},
   "source": [
    "# part 1"
   ]
  },
  {
   "cell_type": "markdown",
   "metadata": {},
   "source": [
    "### Ouput 1"
   ]
  },
  {
   "cell_type": "code",
   "execution_count": 3,
   "metadata": {},
   "outputs": [
    {
     "name": "stdout",
     "output_type": "stream",
     "text": [
      "Saylani Mass IT Training\n",
      "\tSaylani Mass IT Training\n",
      "Saylani Mass IT Training\n",
      "\tSaylani Mass IT Training\n",
      "Saylani Mass IT Training\n",
      "\tSaylani Mass IT Training\n",
      "Saylani Mass IT Training\n",
      "\tSaylani Mass IT Training\n",
      "\tSaylani Mass IT Training\n",
      "Saylani Mass IT Training\n",
      "\tSaylani Mass IT Training\n"
     ]
    }
   ],
   "source": [
    "print('Saylani Mass IT Training')\n",
    "print('\\tSaylani Mass IT Training')\n",
    "print('Saylani Mass IT Training')\n",
    "print('\\tSaylani Mass IT Training')\n",
    "print('Saylani Mass IT Training')\n",
    "print('\\tSaylani Mass IT Training')\n",
    "print('Saylani Mass IT Training')\n",
    "print('\\tSaylani Mass IT Training')\n",
    "print('\\tSaylani Mass IT Training')\n",
    "print('Saylani Mass IT Training')\n",
    "print('\\tSaylani Mass IT Training')"
   ]
  },
  {
   "cell_type": "markdown",
   "metadata": {},
   "source": [
    "### Output 2"
   ]
  },
  {
   "cell_type": "code",
   "execution_count": 10,
   "metadata": {},
   "outputs": [
    {
     "name": "stdout",
     "output_type": "stream",
     "text": [
      "Saylani Mass IT Training   Saylani Mass IT Training\n",
      "Saylani Mass IT Training   Saylani Mass IT Training\n",
      "Saylani Mass IT Training   Saylani Mass IT Training\n",
      "Saylani Mass IT Training   Saylani Mass IT Training\n"
     ]
    }
   ],
   "source": [
    "print('Saylani Mass IT Training','Saylani Mass IT Training',sep='  ')\n",
    "print('Saylani Mass IT Training','Saylani Mass IT Training',sep='  ')\n",
    "print('Saylani Mass IT Training','Saylani Mass IT Training',sep='  ')\n",
    "print('Saylani Mass IT Training','Saylani Mass IT Training',sep='  ')"
   ]
  },
  {
   "cell_type": "markdown",
   "metadata": {},
   "source": [
    "### Output 3 "
   ]
  },
  {
   "cell_type": "code",
   "execution_count": 14,
   "metadata": {},
   "outputs": [
    {
     "name": "stdout",
     "output_type": "stream",
     "text": [
      "\tSaylani Mass IT Training\n",
      "Saylani Mass IT Training  Saylani Mass IT Training\n",
      "\tSaylani Mass IT Training\n",
      "Saylani Mass IT Training  Saylani Mass IT Training\n",
      "\tSaylani Mass IT Training\n",
      "Saylani Mass IT Training  Saylani Mass IT Training\n",
      "\tSaylani Mass IT Training\n",
      "Saylani Mass IT Training  Saylani Mass IT Training\n",
      "\tSaylani Mass IT Training\n",
      "Saylani Mass IT Training  Saylani Mass IT Training\n"
     ]
    }
   ],
   "source": [
    "print('\\tSaylani Mass IT Training')\n",
    "print('Saylani Mass IT Training','Saylani Mass IT Training',sep='  ')\n",
    "print('\\tSaylani Mass IT Training')\n",
    "print('Saylani Mass IT Training','Saylani Mass IT Training',sep='  ')\n",
    "print('\\tSaylani Mass IT Training')\n",
    "print('Saylani Mass IT Training','Saylani Mass IT Training',sep='  ')\n",
    "print('\\tSaylani Mass IT Training')\n",
    "print('Saylani Mass IT Training','Saylani Mass IT Training',sep='  ')\n",
    "print('\\tSaylani Mass IT Training')\n",
    "print('Saylani Mass IT Training','Saylani Mass IT Training',sep='  ')"
   ]
  },
  {
   "cell_type": "markdown",
   "metadata": {},
   "source": [
    "### Output 4"
   ]
  },
  {
   "cell_type": "code",
   "execution_count": 20,
   "metadata": {},
   "outputs": [
    {
     "name": "stdout",
     "output_type": "stream",
     "text": [
      "Saylani Mass IT Training\n",
      "\tSaylani Mass IT Training\n",
      "\t\tSaylani Mass IT Training\n",
      "\t\t\tSaylani Mass IT Training\n",
      "\t\tSaylani Mass IT Training\n",
      "\tSaylani Mass IT Training\n",
      "Saylani Mass IT Training\n"
     ]
    }
   ],
   "source": [
    "print('Saylani Mass IT Training')\n",
    "print('\\tSaylani Mass IT Training')\n",
    "print('\\t\\tSaylani Mass IT Training')\n",
    "print('\\t\\t\\tSaylani Mass IT Training')\n",
    "print('\\t\\tSaylani Mass IT Training')\n",
    "print('\\tSaylani Mass IT Training')\n",
    "print('Saylani Mass IT Training')"
   ]
  },
  {
   "cell_type": "markdown",
   "metadata": {},
   "source": [
    "# Part 2"
   ]
  },
  {
   "cell_type": "code",
   "execution_count": 1,
   "metadata": {},
   "outputs": [
    {
     "name": "stdout",
     "output_type": "stream",
     "text": [
      "Enter any number for table:3\n",
      "3 * 1 = 3\n",
      "3 * 2 = 6\n",
      "3 * 3 = 9\n",
      "3 * 4 = 12\n",
      "3 * 5 = 15\n",
      "3 * 6 = 18\n",
      "3 * 7 = 21\n",
      "3 * 8 = 24\n",
      "3 * 9 = 27\n",
      "3 * 10 = 30\n",
      "3 * 11 = 33\n",
      "3 * 12 = 36\n",
      "3 * 13 = 39\n",
      "3 * 14 = 42\n",
      "3 * 15 = 45\n",
      "3 * 16 = 48\n",
      "3 * 17 = 51\n",
      "3 * 18 = 54\n",
      "3 * 19 = 57\n",
      "3 * 20 = 60\n"
     ]
    }
   ],
   "source": [
    "table = int(input('Enter any number for table:'))\n",
    "for i in range(1,21):\n",
    "    print(f'{table} * {i} = {table*i}')"
   ]
  },
  {
   "cell_type": "markdown",
   "metadata": {},
   "source": [
    "<h1><center>OR</center></h1>"
   ]
  },
  {
   "cell_type": "code",
   "execution_count": 2,
   "metadata": {},
   "outputs": [
    {
     "name": "stdout",
     "output_type": "stream",
     "text": [
      "Enter any number for table:3\n",
      "3\n",
      "6\n",
      "9\n",
      "12\n",
      "15\n",
      "18\n",
      "21\n",
      "24\n",
      "27\n",
      "30\n",
      "33\n",
      "36\n",
      "39\n",
      "42\n",
      "45\n",
      "48\n",
      "51\n",
      "54\n",
      "57\n",
      "60\n"
     ]
    }
   ],
   "source": [
    "table = int(input('Enter any number for table:'))\n",
    "for i in range(1,21):\n",
    "    print(table*i)"
   ]
  },
  {
   "cell_type": "code",
   "execution_count": null,
   "metadata": {},
   "outputs": [],
   "source": []
  }
 ],
 "metadata": {
  "kernelspec": {
   "display_name": "Python 3",
   "language": "python",
   "name": "python3"
  },
  "language_info": {
   "codemirror_mode": {
    "name": "ipython",
    "version": 3
   },
   "file_extension": ".py",
   "mimetype": "text/x-python",
   "name": "python",
   "nbconvert_exporter": "python",
   "pygments_lexer": "ipython3",
   "version": "3.7.3"
  }
 },
 "nbformat": 4,
 "nbformat_minor": 2
}
