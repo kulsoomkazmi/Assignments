{
 "cells": [
  {
   "cell_type": "markdown",
   "metadata": {},
   "source": [
    "# Quiz App"
   ]
  },
  {
   "cell_type": "code",
   "execution_count": 3,
   "metadata": {},
   "outputs": [
    {
     "name": "stdout",
     "output_type": "stream",
     "text": [
      "{'Q1': 'Color of apple?', 'Options\\n': ['a)red', 'b)yellow', 'c)green ', 'd)blue']}\n",
      "\n",
      "Enter your answer:\ta\n",
      "\n",
      "1\n",
      "wooooo correct answer!\n",
      "\n",
      "{'Q2': 'Color of sky?', 'Options\\n': ['a)red', 'b)yellow', 'c)green', 'd)blue']}\n",
      "\n",
      "Enter your answer:\td\n",
      "\n",
      "2\n",
      "wooooo correct answer!\n",
      "\n",
      "{'Q3': 'Largest organ of body is', 'Options\\n': ['a)liver', 'b)skin', 'c)hairs', 'd)legs']}\n",
      "\n",
      "Enter your answer:\tb\n",
      "\n",
      "3\n",
      "wooooo correct answer!\n",
      "\n",
      "{'Q4': 'Blood helps in transportation of:', 'Options\\n': ['a)O2', 'b)CO2', 'c)both a and b', 'd)N2']}\n",
      "\n",
      "Enter your answer:\ta\n",
      "\n",
      "ohhhh wrong answer!\n",
      "\n"
     ]
    }
   ],
   "source": [
    "ques = [\n",
    "    \n",
    "        {'Q1':'Color of apple?','Options\\n':['a)red', 'b)yellow', 'c)green ', 'd)blue']},\n",
    "    \n",
    "        {'Q2':'Color of sky?','Options\\n':['a)red', 'b)yellow', 'c)green', 'd)blue']},\n",
    "        \n",
    "        {'Q3':'Largest organ of body is','Options\\n':['a)liver','b)skin', 'c)hairs','d)legs']},\n",
    "    \n",
    "        {'Q4':'Blood helps in transportation of:','Options\\n':['a)O2','b)CO2', 'c)both a and b', 'd)N2' ]}\n",
    "        \n",
    "    \n",
    "]\n",
    "\n",
    "ans = ['a','d','b','c']\n",
    "count = 0\n",
    "\n",
    "for i in ques:\n",
    "    print(i)\n",
    "    print()\n",
    "    \n",
    "    for j in input('Enter your answer:\\t'):\n",
    "        print()\n",
    "        \n",
    "        if j == ans[count]:\n",
    "            count = count+1\n",
    "            print(count)\n",
    "                \n",
    "            print('wooooo correct answer!')\n",
    "            print()\n",
    "        else:\n",
    "            print('ohhhh wrong answer!')\n",
    "            print()"
   ]
  },
  {
   "cell_type": "code",
   "execution_count": null,
   "metadata": {},
   "outputs": [],
   "source": []
  }
 ],
 "metadata": {
  "kernelspec": {
   "display_name": "Python 3",
   "language": "python",
   "name": "python3"
  },
  "language_info": {
   "codemirror_mode": {
    "name": "ipython",
    "version": 3
   },
   "file_extension": ".py",
   "mimetype": "text/x-python",
   "name": "python",
   "nbconvert_exporter": "python",
   "pygments_lexer": "ipython3",
   "version": "3.7.3"
  }
 },
 "nbformat": 4,
 "nbformat_minor": 2
}
